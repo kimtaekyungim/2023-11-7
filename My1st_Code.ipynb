{
  "nbformat": 4,
  "nbformat_minor": 0,
  "metadata": {
    "colab": {
      "provenance": [],
      "authorship_tag": "ABX9TyM5Xpr17FFLJEbD3iVLsxqL",
      "include_colab_link": true
    },
    "kernelspec": {
      "name": "python3",
      "display_name": "Python 3"
    },
    "language_info": {
      "name": "python"
    }
  },
  "cells": [
    {
      "cell_type": "markdown",
      "metadata": {
        "id": "view-in-github",
        "colab_type": "text"
      },
      "source": [
        "<a href=\"https://colab.research.google.com/github/kimtaekyungim/2023-11-7/blob/main/My1st_Code.ipynb\" target=\"_parent\"><img src=\"https://colab.research.google.com/assets/colab-badge.svg\" alt=\"Open In Colab\"/></a>"
      ]
    },
    {
      "cell_type": "markdown",
      "source": [
        "1 너의 생에 첫 코드작성 (Hello World)\n"
      ],
      "metadata": {
        "id": "UY5aadtbhUkD"
      }
    },
    {
      "cell_type": "code",
      "execution_count": null,
      "metadata": {
        "colab": {
          "base_uri": "https://localhost:8080/"
        },
        "id": "VyiT-ijxhPtw",
        "outputId": "45f7c5b4-4cd9-4028-c7cd-9b8fd41b1ea5"
      },
      "outputs": [
        {
          "output_type": "stream",
          "name": "stdout",
          "text": [
            "Hello world\n"
          ]
        }
      ],
      "source": [
        "print (\"Hello world\") #기본적인 코드를 입력해 출력"
      ]
    },
    {
      "cell_type": "markdown",
      "source": [
        "2. 사칙연산 (+,-,*,/)\n"
      ],
      "metadata": {
        "id": "9A2oswCckB56"
      }
    },
    {
      "cell_type": "code",
      "source": [
        "print (4+4,4-2,4*4,4/2) #괄호안에 숫자를 넣어 계산"
      ],
      "metadata": {
        "colab": {
          "base_uri": "https://localhost:8080/"
        },
        "id": "yp8X733dkycC",
        "outputId": "368dd9e3-9103-4867-ba7b-410f1efdea42"
      },
      "execution_count": null,
      "outputs": [
        {
          "output_type": "stream",
          "name": "stdout",
          "text": [
            "8 2 16 2.0\n"
          ]
        }
      ]
    },
    {
      "cell_type": "markdown",
      "source": [],
      "metadata": {
        "id": "TaMX25WvlMO6"
      }
    },
    {
      "cell_type": "markdown",
      "source": [],
      "metadata": {
        "id": "apcRL5iRkxCK"
      }
    }
  ]
}