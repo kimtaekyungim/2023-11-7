{
  "nbformat": 4,
  "nbformat_minor": 0,
  "metadata": {
    "colab": {
      "provenance": [],
      "authorship_tag": "ABX9TyOHuSN67DGhS6VEIMA+Xfhq",
      "include_colab_link": true
    },
    "kernelspec": {
      "name": "python3",
      "display_name": "Python 3"
    },
    "language_info": {
      "name": "python"
    }
  },
  "cells": [
    {
      "cell_type": "markdown",
      "metadata": {
        "id": "view-in-github",
        "colab_type": "text"
      },
      "source": [
        "<a href=\"https://colab.research.google.com/github/kimtaekyungim/2023-11-7/blob/main/CTBA_9.ipynb\" target=\"_parent\"><img src=\"https://colab.research.google.com/assets/colab-badge.svg\" alt=\"Open In Colab\"/></a>"
      ]
    },
    {
      "cell_type": "markdown",
      "source": [
        "\n",
        "\n",
        "\n",
        "\n",
        "1.   항목 추가\n",
        "\n",
        "\n",
        "*   항목 추가\n",
        "*   항목 추가\n",
        "\n",
        "\n",
        "2.   항목 추가\n",
        "\n",
        "\n"
      ],
      "metadata": {
        "id": "R0fcAvAWM0aF"
      }
    },
    {
      "cell_type": "code",
      "source": [
        "price = int ( input('배송료를 계산합니다 :')) #변수 price는 정수형 변환문 int를 이용하여 입력\n",
        "price ('#'*30) #문자열 연산\n",
        "price = int ( input('구입금액 입력:')) # 변수 price는 정수형 변환문 int를 이용하여 입력\n",
        "if  price >= 10000:  # 조건문으로 price 변수의 값이 10000 이상일 때 실행\n",
        " shipping_cost = 0 # 초기값 설정\n",
        "else :\n",
        "  if price >= 20000: # 조건문으로 price 변수의 값이 20000 이상일 때 실행\n",
        "    shipping_cost = 3000 #변수\n",
        "  else:\n",
        "    shipping_cost = 5000 #변수\n",
        "  price  = int ( input('배송료는 ( shipping_cost ) 입니다 :')) ##변수 price는 정수형 변환문 int를 이용하여 입력"
      ],
      "metadata": {
        "colab": {
          "base_uri": "https://localhost:8080/",
          "height": 276
        },
        "id": "Jm8mXCQbM7XN",
        "outputId": "51f898f9-5483-4bca-eaa5-80d5c8f9bcdb"
      },
      "execution_count": null,
      "outputs": [
        {
          "name": "stdout",
          "output_type": "stream",
          "text": [
            "배송료를 계산합니다 :464\n"
          ]
        },
        {
          "output_type": "error",
          "ename": "TypeError",
          "evalue": "ignored",
          "traceback": [
            "\u001b[0;31m---------------------------------------------------------------------------\u001b[0m",
            "\u001b[0;31mTypeError\u001b[0m                                 Traceback (most recent call last)",
            "\u001b[0;32m<ipython-input-7-9b5a7b300b7f>\u001b[0m in \u001b[0;36m<cell line: 2>\u001b[0;34m()\u001b[0m\n\u001b[1;32m      1\u001b[0m \u001b[0mprice\u001b[0m \u001b[0;34m=\u001b[0m \u001b[0mint\u001b[0m \u001b[0;34m(\u001b[0m \u001b[0minput\u001b[0m\u001b[0;34m(\u001b[0m\u001b[0;34m'배송료를 계산합니다 :'\u001b[0m\u001b[0;34m)\u001b[0m\u001b[0;34m)\u001b[0m\u001b[0;34m\u001b[0m\u001b[0;34m\u001b[0m\u001b[0m\n\u001b[0;32m----> 2\u001b[0;31m \u001b[0mprice\u001b[0m \u001b[0;34m(\u001b[0m\u001b[0;34m'#'\u001b[0m\u001b[0;34m*\u001b[0m\u001b[0;36m30\u001b[0m\u001b[0;34m)\u001b[0m\u001b[0;34m\u001b[0m\u001b[0;34m\u001b[0m\u001b[0m\n\u001b[0m\u001b[1;32m      3\u001b[0m \u001b[0mprice\u001b[0m \u001b[0;34m=\u001b[0m \u001b[0mint\u001b[0m \u001b[0;34m(\u001b[0m \u001b[0minput\u001b[0m\u001b[0;34m(\u001b[0m\u001b[0;34m'구입금액 입력:'\u001b[0m\u001b[0;34m)\u001b[0m\u001b[0;34m)\u001b[0m\u001b[0;34m\u001b[0m\u001b[0;34m\u001b[0m\u001b[0m\n\u001b[1;32m      4\u001b[0m \u001b[0;32mif\u001b[0m  \u001b[0mprice\u001b[0m \u001b[0;34m>=\u001b[0m \u001b[0;36m10000\u001b[0m\u001b[0;34m:\u001b[0m\u001b[0;34m\u001b[0m\u001b[0;34m\u001b[0m\u001b[0m\n\u001b[1;32m      5\u001b[0m  \u001b[0mshipping_cost\u001b[0m \u001b[0;34m=\u001b[0m \u001b[0;36m0\u001b[0m\u001b[0;34m\u001b[0m\u001b[0;34m\u001b[0m\u001b[0m\n",
            "\u001b[0;31mTypeError\u001b[0m: 'int' object is not callable"
          ]
        }
      ]
    },
    {
      "cell_type": "markdown",
      "source": [
        "2. 환영합니다. 5번 출력 , 10번 출력 , 30번 출력"
      ],
      "metadata": {
        "id": "hB5gn-ZOOSfN"
      }
    },
    {
      "cell_type": "code",
      "source": [
        "print(' 환영합니다 ') #문자열 출력\n",
        "print(' 환영합니다 ') #문자열 출력\n",
        "print(' 환영합니다 ') #문자열 출력\n",
        "print(' 환영합니다 ') #문자열 출력"
      ],
      "metadata": {
        "colab": {
          "base_uri": "https://localhost:8080/"
        },
        "id": "_6b2hGPFOav9",
        "outputId": "ce795735-b584-4cd2-a9e0-825714da25c2"
      },
      "execution_count": null,
      "outputs": [
        {
          "output_type": "stream",
          "name": "stdout",
          "text": [
            " 환영합니다 \n",
            " 환영합니다 \n",
            " 환영합니다 \n",
            " 환영합니다 \n"
          ]
        }
      ]
    },
    {
      "cell_type": "code",
      "source": [
        "print('환영합니다.wn' *5) #문자열 연산자 활용"
      ],
      "metadata": {
        "colab": {
          "base_uri": "https://localhost:8080/"
        },
        "id": "7OjGm9KbO1At",
        "outputId": "91d71b49-2bdf-441d-e166-c8e5e52f2db9"
      },
      "execution_count": null,
      "outputs": [
        {
          "output_type": "stream",
          "name": "stdout",
          "text": [
            "환영합니다.wn환영합니다.wn환영합니다.wn환영합니다.wn환영합니다.wn\n"
          ]
        }
      ]
    },
    {
      "cell_type": "code",
      "source": [
        "count = 0 #초기값\n",
        "while count <= 5: #5와 같거나 작음\n",
        "  print(\"()\". count.\")    #변수입력\n",
        "  #count = count + 1 #조건\n",
        "  count = 1  #변수"
      ],
      "metadata": {
        "colab": {
          "base_uri": "https://localhost:8080/",
          "height": 147
        },
        "id": "WNh9vBweSlKm",
        "outputId": "71a06111-376d-4e4e-da9c-37ed9949d424"
      },
      "execution_count": null,
      "outputs": [
        {
          "output_type": "error",
          "ename": "SyntaxError",
          "evalue": "ignored",
          "traceback": [
            "\u001b[0;36m  File \u001b[0;32m\"<ipython-input-8-3c6f51fffbc8>\"\u001b[0;36m, line \u001b[0;32m3\u001b[0m\n\u001b[0;31m    print(\"()\". count.\")\u001b[0m\n\u001b[0m                      ^\u001b[0m\n\u001b[0;31mSyntaxError\u001b[0m\u001b[0;31m:\u001b[0m unterminated string literal (detected at line 3)\n"
          ]
        }
      ]
    },
    {
      "cell_type": "markdown",
      "source": [
        "3. 0부터 9까지 출력"
      ],
      "metadata": {
        "id": "xt-pv0ocU7g9"
      }
    },
    {
      "cell_type": "code",
      "source": [
        "x = 0 #변수 초기값\n",
        "while x < 10: #변수는 10보다 작음\n",
        "  print(x,end' ') #조건\n",
        "  x += 1  #조건"
      ],
      "metadata": {
        "colab": {
          "base_uri": "https://localhost:8080/",
          "height": 147
        },
        "id": "DaT31fMDVLFm",
        "outputId": "d7396f93-9f1d-4648-f4a0-4cc63616862a"
      },
      "execution_count": null,
      "outputs": [
        {
          "output_type": "error",
          "ename": "SyntaxError",
          "evalue": "ignored",
          "traceback": [
            "\u001b[0;36m  File \u001b[0;32m\"<ipython-input-9-8f7d5cff08a6>\"\u001b[0;36m, line \u001b[0;32m3\u001b[0m\n\u001b[0;31m    print(x,end' ')\u001b[0m\n\u001b[0m               ^\u001b[0m\n\u001b[0;31mSyntaxError\u001b[0m\u001b[0;31m:\u001b[0m invalid syntax\n"
          ]
        }
      ]
    },
    {
      "cell_type": "markdown",
      "source": [
        "4. 3-6-9 게임 ( 3의 배수 판단 ) : 3의 배수를 3으로 나누면 나머지가 0이 되므로 ( i mod 3 )의 값이 0이면 박수를 출력 , 아니면 숫자를 출력해주는 코드 작성"
      ],
      "metadata": {
        "id": "bmJ4voZsVo72"
      }
    },
    {
      "cell_type": "code",
      "source": [
        "i = 0                                 #변수 i는 0으로 선언\n",
        "while i <= 30:                        #반복문 while사용해서 i가 30보다 작거나 같을때\n",
        "  if i % 3 = 0:                       #만약 i값을 3으로 나눈 나머지가 0이면\n",
        "    print('박수' , end ='' )          #박수를 출력하고 공백을 하나 만듦\n",
        "  else:                               #위의 것이 아니면,\n",
        "    print(i , end='')                #i값만 출력하고 공백 하나 만듦\n",
        "  i += 1                              #변수 i값에 i와 1을 더해서 다시 변수 i에 선언"
      ],
      "metadata": {
        "colab": {
          "base_uri": "https://localhost:8080/",
          "height": 147
        },
        "id": "iWPTICL2WBJe",
        "outputId": "6b51d79c-e7b7-42f1-abd2-3563daf07496"
      },
      "execution_count": null,
      "outputs": [
        {
          "output_type": "error",
          "ename": "SyntaxError",
          "evalue": "ignored",
          "traceback": [
            "\u001b[0;36m  File \u001b[0;32m\"<ipython-input-11-c5c0dd92e574>\"\u001b[0;36m, line \u001b[0;32m3\u001b[0m\n\u001b[0;31m    if i % 3 = 0:                       #만약 i값을 3으로 나눈 나머지가 0이면\u001b[0m\n\u001b[0m       ^\u001b[0m\n\u001b[0;31mSyntaxError\u001b[0m\u001b[0;31m:\u001b[0m cannot assign to expression here. Maybe you meant '==' instead of '='?\n"
          ]
        }
      ]
    },
    {
      "cell_type": "markdown",
      "source": [
        "4. 1부터 10까지 정수의 핪을 계산하여 출력하는 코드"
      ],
      "metadata": {
        "id": "ESsRs609YaR2"
      }
    },
    {
      "cell_type": "code",
      "source": [
        "x  = 1 #변수초기값\n",
        "total = 0 #변수\n",
        "while x <= 10: #변수조건\n",
        "  print(x) #변수\n",
        "  x += 1 #변수조건"
      ],
      "metadata": {
        "colab": {
          "base_uri": "https://localhost:8080/"
        },
        "id": "qxp15yq4Y0R2",
        "outputId": "2ea8e951-e7b9-4807-f7a1-b1d415e16735"
      },
      "execution_count": null,
      "outputs": [
        {
          "output_type": "stream",
          "name": "stdout",
          "text": [
            "1\n",
            "2\n",
            "3\n",
            "4\n",
            "5\n",
            "6\n",
            "7\n",
            "8\n",
            "9\n",
            "10\n"
          ]
        }
      ]
    },
    {
      "cell_type": "code",
      "source": [
        "from prompt_toolkit.shortcuts.prompt import E #변수\n",
        "for num in range(1,11 ) ; #변수\n",
        "if numn % 3 = 0: #변수조건\n",
        "  print ('박수' , end ' ')  #변수\n",
        "else:  #입력\n",
        "  print ( num , end=' ')  #결과 , 변수"
      ],
      "metadata": {
        "colab": {
          "base_uri": "https://localhost:8080/",
          "height": 147
        },
        "id": "Wa91QSMlZWZ2",
        "outputId": "d7708c76-b207-46fc-c893-c34e8f9de35f"
      },
      "execution_count": null,
      "outputs": [
        {
          "output_type": "error",
          "ename": "SyntaxError",
          "evalue": "ignored",
          "traceback": [
            "\u001b[0;36m  File \u001b[0;32m\"<ipython-input-14-68ff80b9de26>\"\u001b[0;36m, line \u001b[0;32m2\u001b[0m\n\u001b[0;31m    for num in range(1,11 ) ;\u001b[0m\n\u001b[0m                            ^\u001b[0m\n\u001b[0;31mSyntaxError\u001b[0m\u001b[0;31m:\u001b[0m invalid syntax\n"
          ]
        }
      ]
    },
    {
      "cell_type": "markdown",
      "source": [
        "6. 팩토리얼 계산하는 코드 작성"
      ],
      "metadata": {
        "id": "uDcNPZnvag6n"
      }
    },
    {
      "cell_type": "code",
      "source": [],
      "metadata": {
        "id": "Ad2zgXDnjzNv"
      },
      "execution_count": null,
      "outputs": []
    },
    {
      "cell_type": "code",
      "source": [
        "i = 5 #초기값\n",
        "factorial = 1 #변수\n",
        "while i <= 10: #변수조건\n",
        "  factorial = factorial *1 #변수조건\n",
        "  i += 1  #변수조건\n",
        "print(factorial) #변수정의"
      ],
      "metadata": {
        "colab": {
          "base_uri": "https://localhost:8080/"
        },
        "id": "q0G91GtCalH3",
        "outputId": "800a1911-4ca0-4179-8906-b679bdccd879"
      },
      "execution_count": null,
      "outputs": [
        {
          "output_type": "stream",
          "name": "stdout",
          "text": [
            "1\n"
          ]
        }
      ]
    },
    {
      "cell_type": "code",
      "source": [
        "num = int(input('팩토리얼 값입력:')) #변수정의\n",
        "factorial = 1 #초기값 , 변수\n",
        "while num >= 1: #변수 조건\n",
        "  factorial = factorial * num  #변수조건\n",
        "  i += 1 #변수 조건"
      ],
      "metadata": {
        "id": "9ihn_nhSbu6X"
      },
      "execution_count": null,
      "outputs": []
    }
  ]
}