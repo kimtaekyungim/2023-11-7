{
  "nbformat": 4,
  "nbformat_minor": 0,
  "metadata": {
    "colab": {
      "provenance": [],
      "authorship_tag": "ABX9TyNggs9uE5GlzYMSt94Slvuy",
      "include_colab_link": true
    },
    "kernelspec": {
      "name": "python3",
      "display_name": "Python 3"
    },
    "language_info": {
      "name": "python"
    }
  },
  "cells": [
    {
      "cell_type": "markdown",
      "metadata": {
        "id": "view-in-github",
        "colab_type": "text"
      },
      "source": [
        "<a href=\"https://colab.research.google.com/github/kimtaekyungim/2023-11-7/blob/main/CT2nd_code.ipynb\" target=\"_parent\"><img src=\"https://colab.research.google.com/assets/colab-badge.svg\" alt=\"Open In Colab\"/></a>"
      ]
    },
    {
      "cell_type": "markdown",
      "source": [
        "2번쨰 코딩~~"
      ],
      "metadata": {
        "id": "4wXrWG58MbPE"
      }
    },
    {
      "cell_type": "code",
      "source": [
        "n1 = int(input(\"N1의 값을 입력하시오.:\")) #변수 n1값 설정\n",
        "n2 = int(input(\"N2의 값을 입력하시오.:\")) #변수 n1값 설정\n",
        "n2 = int(input(\"N2의 값을 입력하시오.:\")) #변수 n1값 설정\n",
        "n3 = int(input(\"N3의 값을 입력하시오.:\")) #변수 n1값 설정\n",
        "total = n1+n2+n3 #total관계식\n",
        "average = total / 3  #average관계식\n",
        "print(average) #print문 사용"
      ],
      "metadata": {
        "colab": {
          "base_uri": "https://localhost:8080/"
        },
        "id": "7M_VhOa6Hn-z",
        "outputId": "f2ddb97f-2c0c-4152-cf36-432a3d8712a1"
      },
      "execution_count": null,
      "outputs": [
        {
          "output_type": "stream",
          "name": "stdout",
          "text": [
            "N1의 값을 입력하시오.:40\n",
            "N2의 값을 입력하시오.:50\n",
            "N3의 값을 입력하시오.:60\n",
            "50.0\n"
          ]
        }
      ]
    }
  ]
}