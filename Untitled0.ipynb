{
  "nbformat": 4,
  "nbformat_minor": 0,
  "metadata": {
    "colab": {
      "provenance": [],
      "authorship_tag": "ABX9TyMYLktGQ8KtFcmHBqj762Uu",
      "include_colab_link": true
    },
    "kernelspec": {
      "name": "python3",
      "display_name": "Python 3"
    },
    "language_info": {
      "name": "python"
    }
  },
  "cells": [
    {
      "cell_type": "markdown",
      "metadata": {
        "id": "view-in-github",
        "colab_type": "text"
      },
      "source": [
        "<a href=\"https://colab.research.google.com/github/kimtaekyungim/2023-11-7/blob/main/Untitled0.ipynb\" target=\"_parent\"><img src=\"https://colab.research.google.com/assets/colab-badge.svg\" alt=\"Open In Colab\"/></a>"
      ]
    },
    {
      "cell_type": "markdown",
      "source": [
        "1. 사용자로부터 세개의 값 xyx를 입력받아서 1씩 각각 1씩 증가하도록 출력되는 코드를 입력하시오"
      ],
      "metadata": {
        "id": "wHtCQIM6HTmW"
      }
    },
    {
      "cell_type": "code",
      "execution_count": null,
      "metadata": {
        "colab": {
          "base_uri": "https://localhost:8080/"
        },
        "id": "QyRz2qCsHRh1",
        "outputId": "b927c806-ecf7-4307-dab7-e683b35387fc"
      },
      "outputs": [
        {
          "output_type": "stream",
          "name": "stdout",
          "text": [
            "x의 값을 입력하시오 1\n",
            "y의 값을 입력하시오 2\n",
            "z의 값을 입력하시오 3\n",
            "x의 값은 (x)이며 , y의 값은 (y)이고 , z의 값은 (z)이다\n"
          ]
        }
      ],
      "source": [
        "x = int(input(\"x의 값을 입력하시오 \")) #변수 x설정\n",
        "y = int(input(\"y의 값을 입력하시오 \")) #변수 y설정\n",
        "z = int(input(\"z의 값을 입력하시오 \")) #변수 z설정\n",
        "x  =  x  + 1 #변수 x설정\n",
        "y  =  y  + 1 #변수 y설정\n",
        "z  =  z  +  1 #변수 z설정\n",
        "print('x의 값은 (x)이며 , y의 값은 (y)이고 , z의 값은 (z)이다') #변수 x,y,z 설정\n"
      ]
    },
    {
      "cell_type": "markdown",
      "source": [
        "2. 알바생의 시습을 계산하여 알바생의 월급을 출력하는 코드"
      ],
      "metadata": {
        "id": "mMZXRqrGJWwu"
      }
    },
    {
      "cell_type": "code",
      "source": [
        "hours_worked = int(input( '일한 시간을 입력하시오 ') ) #시간 변수\n",
        "pay_rate = int(input('시급을 입력하시오 ( 23기준 9620원 ) :')) #시급 변수\n",
        "monthly_pay =  hours_worked * pay_rate  #설정\n",
        "print(( '일한시간은 (hours_worked)이고 , 시급은 (pay_rate)이며 월급여는 (monthly_pay)입니다' )) #설정"
      ],
      "metadata": {
        "colab": {
          "base_uri": "https://localhost:8080/"
        },
        "id": "xj-Ry-60JccV",
        "outputId": "5d0e21d7-0ae6-4b29-e0a3-9da847518f40"
      },
      "execution_count": null,
      "outputs": [
        {
          "output_type": "stream",
          "name": "stdout",
          "text": [
            "일한 시간을 입력하시오 1\n",
            "시급을 입력하시오 ( 23기준 9620원 ) :1\n",
            "일한시간은 (hours_worked)이고 , 시급은 (pay_rate)이며 월급여는 (monthly_pay)입니다\n"
          ]
        }
      ]
    },
    {
      "cell_type": "markdown",
      "source": [
        "3. 환율계산하는 코드작성\n",
        " -원의 변수는 won\n",
        " -달러의 변수는 usd\n",
        " -환전의 변수는 exchange\n"
      ],
      "metadata": {
        "id": "qKyjKBzAMooF"
      }
    },
    {
      "cell_type": "code",
      "source": [
        "won = int(input(\"환전할 금액을 입력(kor):\")) #변수won설정\n",
        "usd = int(input(\"현재 달러의 환율 입력(231031:1372):\")) #변수usd설정\n",
        "exchange = won + usd #둘사이 관계\n",
        "print(\"환전할 금액은 (won)이며 , 금액은 (usd)이며 , 환전 금액은 (exchange)이다 \") #print문 사용"
      ],
      "metadata": {
        "colab": {
          "base_uri": "https://localhost:8080/"
        },
        "id": "1TT9BuV3M-JM",
        "outputId": "9836b891-26e8-48e3-b6ba-a30c4b02a49e"
      },
      "execution_count": null,
      "outputs": [
        {
          "output_type": "stream",
          "name": "stdout",
          "text": [
            "환전할 금액을 입력(kor):1\n",
            "현재 달러의 환율 입력(231031:1372):2\n",
            "환전할 금액은 (won)이며 , 금액은 (usd)이며 , 환전 금액은 (exchange)이다 \n"
          ]
        }
      ]
    },
    {
      "cell_type": "markdown",
      "source": [
        "4. 화씨(fahrenheit)를 섭씨(celsius)로 변환하는 코드작성"
      ],
      "metadata": {
        "id": "nHsbXLIjOMT0"
      }
    },
    {
      "cell_type": "code",
      "source": [
        "fahrenheit = int(input( '화씨 온도을 입력하시오 ') ) #변수 fahrenheit설정\n",
        "celsius = (fahrenheit-32) / 1.8 #관계 입력\n",
        "print(('화씨온도는 (fahrenheit), 섭씨온도는 (celsius)도 입니다')) #print문 사용\n"
      ],
      "metadata": {
        "colab": {
          "base_uri": "https://localhost:8080/"
        },
        "id": "nyUIFBgwOdMc",
        "outputId": "c99cbb6d-ce1a-4c15-a781-b49d5de644ed"
      },
      "execution_count": null,
      "outputs": [
        {
          "output_type": "stream",
          "name": "stdout",
          "text": [
            "화씨 온도을 입력하시오 1\n",
            "화씨온도는 (fahrenheit), 섭씨온도는 (celsius)도 입니다\n"
          ]
        }
      ]
    },
    {
      "cell_type": "code",
      "source": [
        "celsius = int(input( '섭씨 온도을 입력하시오 ') ) #변수 celsius설정\n",
        "fahrenheit = (celsius * 1.8) + 32  #관계 입력\n",
        "print(('섭씨온도는 (celsius) , 화씨온도는 (fahrenheit)')) #print문 사용\n"
      ],
      "metadata": {
        "colab": {
          "base_uri": "https://localhost:8080/"
        },
        "id": "9F1KdFsoP7ZM",
        "outputId": "bba56f8f-3889-4214-eaad-7bca6547f7aa"
      },
      "execution_count": null,
      "outputs": [
        {
          "output_type": "stream",
          "name": "stdout",
          "text": [
            "섭씨 온도을 입력하시오 3\n",
            "섭씨온도는 (celsius) , 화씨온도는 (fahrenheit)\n"
          ]
        }
      ]
    },
    {
      "cell_type": "markdown",
      "source": [
        "사용자로부터 2개의 정수를 받아서 합계를 출력"
      ],
      "metadata": {
        "id": "Q4vuQjvFVqfi"
      }
    },
    {
      "cell_type": "code",
      "source": [
        "x = int(input(\"x의 값을 입력하시오 \")) #변수 x값\n",
        "y = int(input(\"y의 값을 입력하시오 \")) #변수 y값\n",
        "sum = x + y  #x,y관계 입력"
      ],
      "metadata": {
        "colab": {
          "base_uri": "https://localhost:8080/"
        },
        "id": "wlqqb5Q5Vx8T",
        "outputId": "5082bd5d-fa07-4f77-e3a7-ce5782dfd963"
      },
      "execution_count": null,
      "outputs": [
        {
          "name": "stdout",
          "output_type": "stream",
          "text": [
            "x의 값을 입력하시오 1\n",
            "y의 값을 입력하시오 2\n"
          ]
        }
      ]
    },
    {
      "cell_type": "code",
      "source": [
        "price = int(input( '상품의 가격을 입력하시오 ') ) #변수 price 설정\n",
        "vat =  price * 0.1 #관계 입력\n",
        "print(('상품의 가격은 (price)이고 상품 세금은 (vat)입니다 ')) #print문 사용\n"
      ],
      "metadata": {
        "colab": {
          "base_uri": "https://localhost:8080/"
        },
        "id": "Qz7Cgdq1WhNb",
        "outputId": "de93fa83-4c8e-4d7b-a97f-d027cae98926"
      },
      "execution_count": null,
      "outputs": [
        {
          "output_type": "stream",
          "name": "stdout",
          "text": [
            "상품의 가격을 입력하시오 13\n",
            "상품의 가격은 (price)이고 상품 세금은 (vat)입니다 \n"
          ]
        }
      ]
    }
  ]
}