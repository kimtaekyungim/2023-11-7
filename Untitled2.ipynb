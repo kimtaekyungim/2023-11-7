{
  "nbformat": 4,
  "nbformat_minor": 0,
  "metadata": {
    "colab": {
      "provenance": [],
      "authorship_tag": "ABX9TyNDwT9hfA0Sjf5eCriiHXUW",
      "include_colab_link": true
    },
    "kernelspec": {
      "name": "python3",
      "display_name": "Python 3"
    },
    "language_info": {
      "name": "python"
    }
  },
  "cells": [
    {
      "cell_type": "markdown",
      "metadata": {
        "id": "view-in-github",
        "colab_type": "text"
      },
      "source": [
        "<a href=\"https://colab.research.google.com/github/kimtaekyungim/2023-11-7/blob/main/Untitled2.ipynb\" target=\"_parent\"><img src=\"https://colab.research.google.com/assets/colab-badge.svg\" alt=\"Open In Colab\"/></a>"
      ]
    },
    {
      "cell_type": "code",
      "execution_count": null,
      "metadata": {
        "id": "fwqAKgwCN-SS"
      },
      "outputs": [],
      "source": [
        "movie_list = ('아바타' , '스타워즈' , ' 반지의 제왕')"
      ]
    },
    {
      "cell_type": "markdown",
      "source": [
        "2. 요일을 배열로 선언하라.\n",
        "- 변수명 : day_list\n",
        "*요일 : 월 (mon) ,화 (thus) , 수 ( wed) , 목 () , 금 , 토 , 일"
      ],
      "metadata": {
        "id": "nuuZwkmkPGSg"
      }
    },
    {
      "cell_type": "code",
      "source": [
        "day_list = [ '월(mon)', '화(thus)']\n",
        "print"
      ],
      "metadata": {
        "id": "fMZtYibNPmOH"
      },
      "execution_count": null,
      "outputs": []
    }
  ]
}