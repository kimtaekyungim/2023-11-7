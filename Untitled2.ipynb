{
  "nbformat": 4,
  "nbformat_minor": 0,
  "metadata": {
    "colab": {
      "provenance": [],
      "authorship_tag": "ABX9TyNAJQZYjhCi+rppu21HHdYs",
      "include_colab_link": true
    },
    "kernelspec": {
      "name": "python3",
      "display_name": "Python 3"
    },
    "language_info": {
      "name": "python"
    }
  },
  "cells": [
    {
      "cell_type": "markdown",
      "metadata": {
        "id": "view-in-github",
        "colab_type": "text"
      },
      "source": [
        "<a href=\"https://colab.research.google.com/github/kimtaekyungim/2023-11-7/blob/main/Untitled2.ipynb\" target=\"_parent\"><img src=\"https://colab.research.google.com/assets/colab-badge.svg\" alt=\"Open In Colab\"/></a>"
      ]
    },
    {
      "cell_type": "code",
      "execution_count": null,
      "metadata": {
        "id": "fwqAKgwCN-SS"
      },
      "outputs": [],
      "source": [
        "movie_list = ('아바타' , '스타워즈' , ' 반지의 제왕') #코드로 영화리스트 나열"
      ]
    },
    {
      "cell_type": "markdown",
      "source": [
        "2. 요일을 배열로 선언하라.\n",
        "- 변수명 : day_list\n",
        "*요일 : 월 (mon) ,화 (thus) , 수 ( wed) , 목 () , 금 , 토 , 일"
      ],
      "metadata": {
        "id": "nuuZwkmkPGSg"
      }
    },
    {
      "cell_type": "code",
      "source": [
        "day_list = [ '월(mon)', '화(thus)'] #코드를 이용해 요일 배열\n",
        "print"
      ],
      "metadata": {
        "id": "fMZtYibNPmOH"
      },
      "execution_count": null,
      "outputs": []
    }
  ]
}