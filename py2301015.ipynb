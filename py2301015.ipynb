{
  "nbformat": 4,
  "nbformat_minor": 0,
  "metadata": {
    "colab": {
      "provenance": [],
      "authorship_tag": "ABX9TyOEFhzS6sVJEPyKoHa62lV/",
      "include_colab_link": true
    },
    "kernelspec": {
      "name": "python3",
      "display_name": "Python 3"
    },
    "language_info": {
      "name": "python"
    }
  },
  "cells": [
    {
      "cell_type": "markdown",
      "metadata": {
        "id": "view-in-github",
        "colab_type": "text"
      },
      "source": [
        "<a href=\"https://colab.research.google.com/github/kimtaekyungim/2023-11-7/blob/main/py2301015.ipynb\" target=\"_parent\"><img src=\"https://colab.research.google.com/assets/colab-badge.svg\" alt=\"Open In Colab\"/></a>"
      ]
    },
    {
      "cell_type": "markdown",
      "source": [
        "\n",
        "\\"
      ],
      "metadata": {
        "id": "_Wi_VX56x9SA"
      }
    },
    {
      "cell_type": "markdown",
      "source": [
        "1. To-DO List를 작성하시오.\n",
        "  - 2023년 10월 19일\n",
        "  - (1) 09:20 도서관에서 책을 빌리기\n",
        "  - (2) 11:10 컴퓨팅적사고와 기초코딩 수업\n",
        "  - (3) 13:00 점심식사\n",
        "  - (4) 14:10 교양수업\n",
        "  - (5) 16:00 파이썬 공부 및 레포트 작성\n",
        "  - (6) 17:40 저녁식사 및 집안일 돕기\n",
        "  - (7) 19:00 LOL 하기\n",
        "  \n"
      ],
      "metadata": {
        "id": "gWu4Cv_Zua4v"
      }
    },
    {
      "cell_type": "code",
      "source": [
        "print (\"1. To Do List를 작성하시오\") #print문 입력\n",
        "print (\"2023월 10월 19일\")  #print문 입력\n",
        "print (\"(1) 09:20 도서관에서 책을 빌리기 \")  #print문 입력\n",
        "print (\"(2) 11:10 컴퓨팅적사고와 기초코딩 수업\")  #print문 입력\n",
        "print (\"(3) 13:00 점심식사\")  #print문 입력\n",
        "print (\"(4) 14:10 교양수업\")  #print문 입력\n",
        "print (\"(5) 16:00 파이썬 공부 및 레포트 작성\")  #print문 입력\n",
        "print (\"(6) 17:40 저녁식사 및 집안일 돕기\") #print문 입력\n",
        "print (\"(7) 19:00 LOL 하기\")  #print문 입력\n"
      ],
      "metadata": {
        "colab": {
          "base_uri": "https://localhost:8080/"
        },
        "id": "y32ChHw94WbL",
        "outputId": "e0173214-1749-4bce-b825-506c9d958513"
      },
      "execution_count": null,
      "outputs": [
        {
          "output_type": "stream",
          "name": "stdout",
          "text": [
            "1. To Do List를 작성하시오\n",
            "2023월 10월 19일\n",
            "(1) 09:20 도서관에서 책을 빌리기 \n",
            "(2) 11:10 컴퓨팅적사고와 기초코딩 수업\n",
            "(3) 13:00 점심식사\n",
            "(4) 14:10 교양수업\n",
            "(5) 16:00 파이썬 공부 및 레포트 작성\n",
            "(6) 17:40 저녁식사 및 집안일 돕기\n",
            "(7) 19:00 LOL 하기\n"
          ]
        }
      ]
    },
    {
      "cell_type": "markdown",
      "source": [
        "2. 인사말 출력하기\n",
        "  - 식사하셧습니까? 행님"
      ],
      "metadata": {
        "id": "TeA0z6MywdmX"
      }
    },
    {
      "cell_type": "code",
      "source": [
        "print (\"2. 인사말 출력하기 \")  #print문 입력\n",
        "print (\"식사하셧습니까? 행님\")  #print문 입력"
      ],
      "metadata": {
        "colab": {
          "base_uri": "https://localhost:8080/"
        },
        "id": "-iKCZ3SF4NfD",
        "outputId": "b8cff6f1-605a-4fd7-d5f5-3e6e0c0548fd"
      },
      "execution_count": null,
      "outputs": [
        {
          "output_type": "stream",
          "name": "stdout",
          "text": [
            "2. 인사말 출력하기 \n",
            "식사하셧습니까? 행님\n"
          ]
        }
      ]
    },
    {
      "cell_type": "markdown",
      "source": [
        "3. 학생 4명의 국어점수를 입력받아서 아래와 같이 출력하시오.\n",
        "  -  박보검 : 90점\n",
        "  -  션     : 92점\n",
        "  -  도룡용 : 80점\n",
        "  -  차은우 : 99점\n",
        "  -  국어 점수 순위\n",
        "  - 1등 차은우\n",
        "  - 2등 션\n",
        "  - 3등 박보검\n",
        "  - 4등 도룡용"
      ],
      "metadata": {
        "id": "YKXggi6KwwhV"
      }
    },
    {
      "cell_type": "code",
      "source": [
        "n1 = input(\"학생의 점수를 입력하시오:\")  #n1이용해서 변수 설정\n",
        "n2 = input(\"학생의 점수를 입력하시오:\")  #n2이용해서 변수 설정\n",
        "n3 = input(\"학생의 점수를 입력하시오:\")  #n3이용해서 변수 설정\n",
        "n4 = input(\"학생의 점수를 입력하시오:\")  #n4이용해서 변수 설정\n",
        "print(\"국어 점수 순위\")  #print문 입력\n",
        "print(\"1등\",n4) #print문 입력\n",
        "print(\"2등\",n2) #print문 입력\n",
        "print(\"3등\",n1) #print문 입력\n",
        "print(\"4등\",n3) #print문 입력"
      ],
      "metadata": {
        "colab": {
          "base_uri": "https://localhost:8080/"
        },
        "id": "_1Pn5Vfu4Tys",
        "outputId": "faffa12e-e532-42d6-a93a-1103513ecbb6"
      },
      "execution_count": null,
      "outputs": [
        {
          "output_type": "stream",
          "name": "stdout",
          "text": [
            "학생의 점수를 입력하시오:박보검 : 90점\n",
            "학생의 점수를 입력하시오:션 : 92점\n",
            "학생의 점수를 입력하시오:도룡용 : 80점\n",
            "학생의 점수를 입력하시오:차은우 : 99점\n",
            "국어 점수 순위\n",
            "1등 차은우 : 99점\n",
            "2등 션 : 92점\n",
            "3등 박보검 : 90점\n",
            "4등 도룡용 : 80점\n"
          ]
        }
      ]
    },
    {
      "cell_type": "markdown",
      "source": [
        "4. 두개의 점수를 입력받아서 합계와 평균을 출력하시오."
      ],
      "metadata": {
        "id": "FOSThVVvxr0_"
      }
    },
    {
      "cell_type": "code",
      "source": [
        "n1  = int(input(\"n1의 값을 입력하시오.:\"))  #n1이용해서 변수 설정\n",
        "n2  = int(input(\"n2의 값을 입력하시오.:\"))  #n2이용해서 변수 설정\n",
        "total =  n1+n2 #total값 정의\n",
        "average = total / 2 #average값 정의\n",
        "print(average)  #print문 입력"
      ],
      "metadata": {
        "colab": {
          "base_uri": "https://localhost:8080/"
        },
        "id": "FlvCU8n0787C",
        "outputId": "4acc3237-fda4-4140-ee13-ff6f2d603df7"
      },
      "execution_count": null,
      "outputs": [
        {
          "output_type": "stream",
          "name": "stdout",
          "text": [
            "n1의 값을 입력하시오.:1\n",
            "n2의 값을 입력하시오.:1\n",
            "1.0\n"
          ]
        }
      ]
    }
  ]
}